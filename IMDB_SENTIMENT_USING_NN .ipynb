{
  "nbformat": 4,
  "nbformat_minor": 0,
  "metadata": {
    "colab": {
      "name": "IMDB_SENTIMENT USING NN.ipynb",
      "provenance": [],
      "collapsed_sections": []
    },
    "kernelspec": {
      "name": "python3",
      "display_name": "Python 3"
    },
    "language_info": {
      "name": "python"
    },
    "accelerator": "GPU",
    "gpuClass": "standard"
  },
  "cells": [
    {
      "cell_type": "code",
      "metadata": {
        "id": "Y4upAlJA_Cr4"
      },
      "source": [
        "from keras.datasets import imdb"
      ],
      "execution_count": 1,
      "outputs": []
    },
    {
      "cell_type": "code",
      "metadata": {
        "id": "nc_hLtyu_xeR"
      },
      "source": [
        "# Dataset Preparation"
      ],
      "execution_count": 2,
      "outputs": []
    },
    {
      "cell_type": "code",
      "metadata": {
        "id": "glj6rqjW_1EI",
        "colab": {
          "base_uri": "https://localhost:8080/"
        },
        "outputId": "ab36803f-3566-42ca-c31c-87c8e446bdd2"
      },
      "source": [
        "((XT,YT),(Xt,Yt)) = imdb.load_data(num_words=10000)"
      ],
      "execution_count": 3,
      "outputs": [
        {
          "output_type": "stream",
          "name": "stdout",
          "text": [
            "Downloading data from https://storage.googleapis.com/tensorflow/tf-keras-datasets/imdb.npz\n",
            "17465344/17464789 [==============================] - 0s 0us/step\n",
            "17473536/17464789 [==============================] - 0s 0us/step\n"
          ]
        }
      ]
    },
    {
      "cell_type": "code",
      "metadata": {
        "colab": {
          "base_uri": "https://localhost:8080/"
        },
        "id": "GZpdBn-7AKIs",
        "outputId": "c5985774-3f54-4d7a-f0b4-f0690a14ae62"
      },
      "source": [
        "print(len(XT))\n",
        "print(len(Xt))"
      ],
      "execution_count": 4,
      "outputs": [
        {
          "output_type": "stream",
          "name": "stdout",
          "text": [
            "25000\n",
            "25000\n"
          ]
        }
      ]
    },
    {
      "cell_type": "code",
      "metadata": {
        "colab": {
          "base_uri": "https://localhost:8080/"
        },
        "id": "_KTg3uLbANd7",
        "outputId": "7fbf59d9-9540-4791-853d-92c929b5001b"
      },
      "source": [
        "print(XT[0])"
      ],
      "execution_count": 5,
      "outputs": [
        {
          "output_type": "stream",
          "name": "stdout",
          "text": [
            "[1, 14, 22, 16, 43, 530, 973, 1622, 1385, 65, 458, 4468, 66, 3941, 4, 173, 36, 256, 5, 25, 100, 43, 838, 112, 50, 670, 2, 9, 35, 480, 284, 5, 150, 4, 172, 112, 167, 2, 336, 385, 39, 4, 172, 4536, 1111, 17, 546, 38, 13, 447, 4, 192, 50, 16, 6, 147, 2025, 19, 14, 22, 4, 1920, 4613, 469, 4, 22, 71, 87, 12, 16, 43, 530, 38, 76, 15, 13, 1247, 4, 22, 17, 515, 17, 12, 16, 626, 18, 2, 5, 62, 386, 12, 8, 316, 8, 106, 5, 4, 2223, 5244, 16, 480, 66, 3785, 33, 4, 130, 12, 16, 38, 619, 5, 25, 124, 51, 36, 135, 48, 25, 1415, 33, 6, 22, 12, 215, 28, 77, 52, 5, 14, 407, 16, 82, 2, 8, 4, 107, 117, 5952, 15, 256, 4, 2, 7, 3766, 5, 723, 36, 71, 43, 530, 476, 26, 400, 317, 46, 7, 4, 2, 1029, 13, 104, 88, 4, 381, 15, 297, 98, 32, 2071, 56, 26, 141, 6, 194, 7486, 18, 4, 226, 22, 21, 134, 476, 26, 480, 5, 144, 30, 5535, 18, 51, 36, 28, 224, 92, 25, 104, 4, 226, 65, 16, 38, 1334, 88, 12, 16, 283, 5, 16, 4472, 113, 103, 32, 15, 16, 5345, 19, 178, 32]\n"
          ]
        }
      ]
    },
    {
      "cell_type": "code",
      "metadata": {
        "id": "I7mOEE39Ab4-",
        "colab": {
          "base_uri": "https://localhost:8080/"
        },
        "outputId": "4e7ce8b0-1c9e-4c7b-8b9b-350080c284ee"
      },
      "source": [
        "word_idx = imdb.get_word_index()"
      ],
      "execution_count": 6,
      "outputs": [
        {
          "output_type": "stream",
          "name": "stdout",
          "text": [
            "Downloading data from https://storage.googleapis.com/tensorflow/tf-keras-datasets/imdb_word_index.json\n",
            "1646592/1641221 [==============================] - 0s 0us/step\n",
            "1654784/1641221 [==============================] - 0s 0us/step\n"
          ]
        }
      ]
    },
    {
      "cell_type": "code",
      "metadata": {
        "id": "nulQvTQ7AyTB"
      },
      "source": [
        "# print(word_idx.items())"
      ],
      "execution_count": 7,
      "outputs": []
    },
    {
      "cell_type": "code",
      "metadata": {
        "id": "SQteGFL7A1ie"
      },
      "source": [
        "idx_word = dict([value,key] for (key,value) in word_idx.items())"
      ],
      "execution_count": 8,
      "outputs": []
    },
    {
      "cell_type": "code",
      "metadata": {
        "id": "pC7aujiyA62J"
      },
      "source": [
        "# print(idx_word.items())"
      ],
      "execution_count": 9,
      "outputs": []
    },
    {
      "cell_type": "code",
      "metadata": {
        "id": "-bcSpjM3A7Vb"
      },
      "source": [
        "actual_review = ' '.join([idx_word.get(idx-3,'?') for idx in XT[0]])"
      ],
      "execution_count": 10,
      "outputs": []
    },
    {
      "cell_type": "code",
      "metadata": {
        "colab": {
          "base_uri": "https://localhost:8080/"
        },
        "id": "9iZ2CvVVA7vh",
        "outputId": "1266f2c8-f3ee-4712-b93d-69850946b2f6"
      },
      "source": [
        "print(actual_review)"
      ],
      "execution_count": 11,
      "outputs": [
        {
          "output_type": "stream",
          "name": "stdout",
          "text": [
            "? this film was just brilliant casting location scenery story direction everyone's really suited the part they played and you could just imagine being there robert ? is an amazing actor and now the same being director ? father came from the same scottish island as myself so i loved the fact there was a real connection with this film the witty remarks throughout the film were great it was just brilliant so much that i bought the film as soon as it was released for ? and would recommend it to everyone to watch and the fly fishing was amazing really cried at the end it was so sad and you know what they say if you cry at a film it must have been good and this definitely was also ? to the two little boy's that played the ? of norman and paul they were just brilliant children are often left out of the ? list i think because the stars that play them all grown up are such a big profile for the whole film but these children are amazing and should be praised for what they have done don't you think the whole story was so lovely because it was true and was someone's life after all that was shared with us all\n"
          ]
        }
      ]
    },
    {
      "cell_type": "code",
      "metadata": {
        "id": "hkql3cOcEMru"
      },
      "source": [
        "## Vectorize the Data\n",
        "## Since Vocab Size is 10000 , We will make sure every sentence is represented by a vector of length 10000"
      ],
      "execution_count": 12,
      "outputs": []
    },
    {
      "cell_type": "code",
      "metadata": {
        "id": "KNche5EZFOWj"
      },
      "source": [
        "import numpy as np"
      ],
      "execution_count": 13,
      "outputs": []
    },
    {
      "cell_type": "code",
      "metadata": {
        "id": "JFXbUhdfEWxk"
      },
      "source": [
        "def vectorize_sentences(sentences,dim=10000):\n",
        "  outputs = np.zeros((len(sentences),dim))\n",
        "\n",
        "  for i,idx in enumerate(sentences):\n",
        "    outputs[i,idx]=1\n",
        "\n",
        "  return outputs  \n"
      ],
      "execution_count": 14,
      "outputs": []
    },
    {
      "cell_type": "code",
      "metadata": {
        "id": "hLJPvn00EXRy"
      },
      "source": [
        "X_train = vectorize_sentences(XT)\n",
        "X_test = vectorize_sentences(Xt)"
      ],
      "execution_count": 15,
      "outputs": []
    },
    {
      "cell_type": "code",
      "metadata": {
        "colab": {
          "base_uri": "https://localhost:8080/"
        },
        "id": "VQh_UmIjEXuP",
        "outputId": "e23356a8-07c3-434d-c0d0-fda7d07d535e"
      },
      "source": [
        "print(X_train.shape)\n",
        "print(X_test.shape)"
      ],
      "execution_count": 16,
      "outputs": [
        {
          "output_type": "stream",
          "name": "stdout",
          "text": [
            "(25000, 10000)\n",
            "(25000, 10000)\n"
          ]
        }
      ]
    },
    {
      "cell_type": "code",
      "metadata": {
        "id": "obI897UYGy6s"
      },
      "source": [
        "Y_train = np.asarray(YT).astype(\"float32\")\n",
        "Y_test = np.asarray(Yt).astype(\"float32\")"
      ],
      "execution_count": 17,
      "outputs": []
    },
    {
      "cell_type": "markdown",
      "metadata": {
        "id": "Tt8cWcJJIC9D"
      },
      "source": [
        "# DEFINE YOUR MODEL ARCH.\n",
        "\n",
        "\n",
        "\n",
        "> -- RELU ACTIVATION\n",
        "\n",
        ">-- 2 HIDDEN LAYERS WITH 16 UNITS EACH\n",
        "\n",
        ">-- 1 OUTPUT LAYER WITH 1 UNIT(SIGMOID ACTIVATION)\n",
        "\n",
        "\n",
        "\n",
        "\n",
        "\n"
      ]
    },
    {
      "cell_type": "code",
      "metadata": {
        "id": "3rYyqyqMH21N"
      },
      "source": [
        "from keras import models\n",
        "from keras.layers import Dense"
      ],
      "execution_count": 41,
      "outputs": []
    },
    {
      "cell_type": "code",
      "metadata": {
        "id": "krzWejRfH3QC"
      },
      "source": [
        "# Model Defined\n",
        "model = models.Sequential()\n",
        "model.add(Dense(16,activation=\"relu\",input_shape =(10000,)))\n",
        "model.add(Dense(16,activation=\"relu\"))\n",
        "model.add(Dense(1,activation=\"sigmoid\"))\n"
      ],
      "execution_count": 42,
      "outputs": []
    },
    {
      "cell_type": "code",
      "metadata": {
        "id": "mboUgK4-H3dK"
      },
      "source": [
        "# Compile the Model\n",
        "model.compile(optimizer=\"rmsprop\",loss=\"binary_crossentropy\",metrics=[\"accuracy\"])\n",
        "\n"
      ],
      "execution_count": 43,
      "outputs": []
    },
    {
      "cell_type": "code",
      "metadata": {
        "colab": {
          "base_uri": "https://localhost:8080/"
        },
        "id": "QJT2c6JiLP9n",
        "outputId": "bd518dac-c2d9-499e-c031-a1adf4d15999"
      },
      "source": [
        "model.summary()"
      ],
      "execution_count": 44,
      "outputs": [
        {
          "output_type": "stream",
          "name": "stdout",
          "text": [
            "Model: \"sequential_1\"\n",
            "_________________________________________________________________\n",
            " Layer (type)                Output Shape              Param #   \n",
            "=================================================================\n",
            " dense_3 (Dense)             (None, 16)                160016    \n",
            "                                                                 \n",
            " dense_4 (Dense)             (None, 16)                272       \n",
            "                                                                 \n",
            " dense_5 (Dense)             (None, 1)                 17        \n",
            "                                                                 \n",
            "=================================================================\n",
            "Total params: 160,305\n",
            "Trainable params: 160,305\n",
            "Non-trainable params: 0\n",
            "_________________________________________________________________\n"
          ]
        }
      ]
    },
    {
      "cell_type": "markdown",
      "source": [
        "**TRAINING AND VALIDATION**\n",
        "\n"
      ],
      "metadata": {
        "id": "RoyAd93ScyFX"
      }
    },
    {
      "cell_type": "code",
      "metadata": {
        "id": "J-2CvuDJLUc1"
      },
      "source": [
        "x_val = X_train[:5000]\n",
        "x_train_new = X_train[5000:]\n",
        "\n",
        "y_val = Y_train[:5000]\n",
        "y_train_new = Y_train[5000:]\n",
        "\n",
        "## now we have out of 25000 examples in training set\n",
        "## 5000 examples in valid set and rest 20000 examples in new training set\n"
      ],
      "execution_count": 45,
      "outputs": []
    },
    {
      "cell_type": "code",
      "source": [
        "## Fitting and training\n",
        "hist=model.fit(x_train_new,y_train_new,epochs=4,batch_size=512,validation_data=(x_val,y_val))\n"
      ],
      "metadata": {
        "colab": {
          "base_uri": "https://localhost:8080/"
        },
        "id": "kqseROQFefhp",
        "outputId": "79ad4d41-90c2-4221-c8b4-5617997035f6"
      },
      "execution_count": 46,
      "outputs": [
        {
          "output_type": "stream",
          "name": "stdout",
          "text": [
            "Epoch 1/4\n",
            "40/40 [==============================] - 1s 23ms/step - loss: 0.4807 - accuracy: 0.8121 - val_loss: 0.4003 - val_accuracy: 0.8324\n",
            "Epoch 2/4\n",
            "40/40 [==============================] - 1s 15ms/step - loss: 0.2831 - accuracy: 0.9083 - val_loss: 0.3156 - val_accuracy: 0.8752\n",
            "Epoch 3/4\n",
            "40/40 [==============================] - 1s 15ms/step - loss: 0.2128 - accuracy: 0.9291 - val_loss: 0.2834 - val_accuracy: 0.8886\n",
            "Epoch 4/4\n",
            "40/40 [==============================] - 1s 15ms/step - loss: 0.1722 - accuracy: 0.9420 - val_loss: 0.2866 - val_accuracy: 0.8852\n"
          ]
        }
      ]
    },
    {
      "cell_type": "markdown",
      "source": [
        "**VISUALISATION**"
      ],
      "metadata": {
        "id": "LRRI430sf_jl"
      }
    },
    {
      "cell_type": "code",
      "source": [
        "import matplotlib.pyplot as plt"
      ],
      "metadata": {
        "id": "8kGllBuYef2y"
      },
      "execution_count": 47,
      "outputs": []
    },
    {
      "cell_type": "code",
      "source": [
        "h=hist.history\n",
        "## it is a dict which contains various keys like accuracy,loss,val_accuracy etc.."
      ],
      "metadata": {
        "id": "dGZN9y5UgFen"
      },
      "execution_count": 48,
      "outputs": []
    },
    {
      "cell_type": "code",
      "source": [
        "plt.style.use(\"seaborn\")"
      ],
      "metadata": {
        "id": "srDGC_VQiLE_"
      },
      "execution_count": 49,
      "outputs": []
    },
    {
      "cell_type": "markdown",
      "source": [
        "These two graphs when we ran for 20 epochs clearly showing overfitting"
      ],
      "metadata": {
        "id": "fdwAeL50BK4u"
      }
    },
    {
      "cell_type": "code",
      "source": [
        "plt.plot(h[\"val_loss\"],label = \"Validation Loss\")\n",
        "plt.plot(h[\"loss\"],label = \"Training Loss\")\n",
        "plt.xlabel(\"Epochs\")\n",
        "plt.ylabel(\"Loss\")\n",
        "plt.legend()\n",
        "plt.show()"
      ],
      "metadata": {
        "colab": {
          "base_uri": "https://localhost:8080/",
          "height": 361
        },
        "id": "qFKA4P0SegHs",
        "outputId": "112d594b-0af0-427b-d85a-ba84d9726580"
      },
      "execution_count": 29,
      "outputs": [
        {
          "output_type": "display_data",
          "data": {
            "text/plain": [
              "<Figure size 576x396 with 1 Axes>"
            ],
            "image/png": "[encoded data removed]"
          },
          "metadata": {}
        }
      ]
    },
    {
      "cell_type": "code",
      "source": [
        "plt.plot(h[\"val_accuracy\"],label = \"Validation Acc\")\n",
        "plt.plot(h[\"accuracy\"],label = \"Training Acc\")\n",
        "plt.xlabel(\"Epochs\")\n",
        "plt.ylabel(\"Accuracy\")\n",
        "plt.legend()\n",
        "plt.show()"
      ],
      "metadata": {
        "colab": {
          "base_uri": "https://localhost:8080/",
          "height": 361
        },
        "id": "xV3yO-vfhO1H",
        "outputId": "98f48fa5-82eb-4eef-fac1-a4efe03e7332"
      },
      "execution_count": 30,
      "outputs": [
        {
          "output_type": "display_data",
          "data": {
            "text/plain": [
              "<Figure size 576x396 with 1 Axes>"
            ],
            "image/png": "[encoded data removed]"
          },
          "metadata": {}
        }
      ]
    },
    {
      "cell_type": "markdown",
      "source": [
        "These two graphs that we just ran for 4 epochs to avoid overfitting and our model is giving pretty good results"
      ],
      "metadata": {
        "id": "-gf2JUCFBU6O"
      }
    },
    {
      "cell_type": "code",
      "source": [
        "plt.plot(h[\"val_loss\"],label = \"Validation Loss\")\n",
        "plt.plot(h[\"loss\"],label = \"Training Loss\")\n",
        "plt.xlabel(\"Epochs\")\n",
        "plt.ylabel(\"Loss\")\n",
        "plt.legend()\n",
        "plt.show()"
      ],
      "metadata": {
        "colab": {
          "base_uri": "https://localhost:8080/",
          "height": 361
        },
        "id": "gyCO-y0rhPPl",
        "outputId": "b94a0b20-f8ff-4d8d-9228-f04ce1c32ec2"
      },
      "execution_count": 50,
      "outputs": [
        {
          "output_type": "display_data",
          "data": {
            "text/plain": [
              "<Figure size 576x396 with 1 Axes>"
            ],
            "image/png": "[encoded data removed]"
          },
          "metadata": {}
        }
      ]
    },
    {
      "cell_type": "code",
      "source": [
        "plt.plot(h[\"val_accuracy\"],label = \"Validation Acc\")\n",
        "plt.plot(h[\"accuracy\"],label = \"Training Acc\")\n",
        "plt.xlabel(\"Epochs\")\n",
        "plt.ylabel(\"Accuracy\")\n",
        "plt.legend()\n",
        "plt.show()"
      ],
      "metadata": {
        "colab": {
          "base_uri": "https://localhost:8080/",
          "height": 361
        },
        "id": "QSYDGNkehPeS",
        "outputId": "00cc224f-9c9b-4ca8-f27c-90cf3d659858"
      },
      "execution_count": 51,
      "outputs": [
        {
          "output_type": "display_data",
          "data": {
            "text/plain": [
              "<Figure size 576x396 with 1 Axes>"
            ],
            "image/png": "[encoded data removed]"
          },
          "metadata": {}
        }
      ]
    },
    {
      "cell_type": "code",
      "source": [
        "model.evaluate(X_test,Y_test)[1] ##--> accuracy"
      ],
      "metadata": {
        "id": "TXMbQkN6jjYW",
        "colab": {
          "base_uri": "https://localhost:8080/"
        },
        "outputId": "7bb44a4c-3d5e-4003-dcbe-24e8b88fe70b"
      },
      "execution_count": 52,
      "outputs": [
        {
          "output_type": "stream",
          "name": "stdout",
          "text": [
            "782/782 [==============================] - 2s 3ms/step - loss: 0.3033 - accuracy: 0.8786\n"
          ]
        },
        {
          "output_type": "execute_result",
          "data": {
            "text/plain": [
              "0.8786399960517883"
            ]
          },
          "metadata": {},
          "execution_count": 52
        }
      ]
    },
    {
      "cell_type": "code",
      "source": [
        "model.evaluate(x_train_new,y_train_new)[1] ##--> accuracy"
      ],
      "metadata": {
        "colab": {
          "base_uri": "https://localhost:8080/"
        },
        "id": "__04YWOkjjoj",
        "outputId": "6d0ba2d7-a7f6-4546-a56c-df5d24ef139a"
      },
      "execution_count": 53,
      "outputs": [
        {
          "output_type": "stream",
          "name": "stdout",
          "text": [
            "625/625 [==============================] - 2s 3ms/step - loss: 0.1483 - accuracy: 0.9503\n"
          ]
        },
        {
          "output_type": "execute_result",
          "data": {
            "text/plain": [
              "0.9503499865531921"
            ]
          },
          "metadata": {},
          "execution_count": 53
        }
      ]
    },
    {
      "cell_type": "code",
      "source": [
        "## reducing the no. of epochs to avoid overfitting--> early stopping"
      ],
      "metadata": {
        "id": "z5DcxAbEjj2k"
      },
      "execution_count": 54,
      "outputs": []
    },
    {
      "cell_type": "code",
      "source": [
        "model.predict(X_test)"
      ],
      "metadata": {
        "colab": {
          "base_uri": "https://localhost:8080/"
        },
        "id": "nQdNPA3TkbEY",
        "outputId": "215fa6a2-db9e-42c9-fee4-bd727cd8272e"
      },
      "execution_count": 55,
      "outputs": [
        {
          "output_type": "execute_result",
          "data": {
            "text/plain": [
              "array([[0.3271796 ],\n",
              "       [0.99894315],\n",
              "       [0.94759804],\n",
              "       ...,\n",
              "       [0.13714753],\n",
              "       [0.12416845],\n",
              "       [0.7334254 ]], dtype=float32)"
            ]
          },
          "metadata": {},
          "execution_count": 55
        }
      ]
    },
    {
      "cell_type": "code",
      "source": [
        "model.predict(X_test[1].reshape(1,-1))"
      ],
      "metadata": {
        "colab": {
          "base_uri": "https://localhost:8080/"
        },
        "id": "vtpWOj6Xkm8M",
        "outputId": "08bf6dc4-be52-4199-df80-6574171b3ee7"
      },
      "execution_count": 56,
      "outputs": [
        {
          "output_type": "execute_result",
          "data": {
            "text/plain": [
              "array([[0.99894315]], dtype=float32)"
            ]
          },
          "metadata": {},
          "execution_count": 56
        }
      ]
    },
    {
      "cell_type": "code",
      "source": [
        ""
      ],
      "metadata": {
        "id": "DGf4jCeTlZOg"
      },
      "execution_count": null,
      "outputs": []
    }
  ]
}